{
 "cells": [
  {
   "cell_type": "code",
   "execution_count": 137,
   "metadata": {},
   "outputs": [],
   "source": [
    "import pandas as pd\n",
    "\n",
    "# Prepare data frame\n",
    "data = pd.read_csv('./data.csv')\n",
    "data = data.dropna()"
   ]
  },
  {
   "cell_type": "code",
   "execution_count": 138,
   "metadata": {},
   "outputs": [],
   "source": [
    "area = {\n",
    "    'ЦАО': 1,\n",
    "    'САО': 2,\n",
    "    'СВАО': 3,\n",
    "    'ВАО': 4,\n",
    "    'ЮВАО': 5,\n",
    "    'ЮАО': 6,\n",
    "    'ЮЗАО': 7,\n",
    "    'ЗАО': 8,\n",
    "    'СЗАО': 9,\n",
    "    'МО': 10,\n",
    "}\n",
    "\n",
    "zodiak = {\n",
    "    'Овен': 1,\n",
    "    'Телец': 2,\n",
    "    'Близнецы': 3,\n",
    "    'Рак': 4,\n",
    "    'Лев': 5,\n",
    "    'Дева': 6,\n",
    "    'Весы': 7,\n",
    "    'Скорпион': 8,\n",
    "    'Стрелец': 9,\n",
    "    'Козерог': 10,\n",
    "    'Водолей': 11,\n",
    "    'Рыбы': 12\n",
    "}\n",
    "\n",
    "columns_name = [x for x in data.columns]\n",
    "# Получаем списоком \"шапку таблицы\" без колонок ФИО, К/Ч, Любимый \n",
    "columns_name = columns_name[1:3] + columns_name[4:-1]"
   ]
  },
  {
   "cell_type": "code",
   "execution_count": 139,
   "metadata": {},
   "outputs": [],
   "source": [
    "test_data = pd.read_csv('./test.csv')\n",
    "\n",
    "# min = 10000\n",
    "# answer = dict()\n",
    "# for i in data.index:\n",
    "#     distance = abs(area.get(data.iloc[i][columns_name[0]])) - area.get((test_data.iloc[0][columns_name[0]])) + \\\n",
    "#                 abs(zodiak.get(data.iloc[i][columns_name[1]]) - zodiak.get(test_data.iloc[0][columns_name[1]])) + \\\n",
    "#                 abs(float(data.iloc[i][columns_name[2]]) - float(test_data.iloc[0][columns_name[2]])) + \\\n",
    "#                 abs(float(data.iloc[i][columns_name[3]]) - float(test_data.iloc[0][columns_name[3]])) + \\\n",
    "#                 abs(float(data.iloc[i][columns_name[4]]) - float(test_data.iloc[0][columns_name[4]]))\n",
    "#     answer[data.iloc[i]['ФИО']] = distance"
   ]
  },
  {
   "cell_type": "code",
   "execution_count": 140,
   "metadata": {},
   "outputs": [
    {
     "ename": "IndexError",
     "evalue": "single positional indexer is out-of-bounds",
     "output_type": "error",
     "traceback": [
      "\u001b[1;31m---------------------------------------------------------------------------\u001b[0m",
      "\u001b[1;31mIndexError\u001b[0m                                Traceback (most recent call last)",
      "Cell \u001b[1;32mIn [140], line 2\u001b[0m\n\u001b[0;32m      1\u001b[0m i \u001b[38;5;241m=\u001b[39m \u001b[38;5;241m22\u001b[39m\n\u001b[1;32m----> 2\u001b[0m data\u001b[38;5;241m.\u001b[39miloc[\u001b[38;5;241m22\u001b[39m]\n",
      "File \u001b[1;32mc:\\Users\\nabie\\AppData\\Local\\Programs\\Python\\Python310\\lib\\site-packages\\pandas\\core\\indexing.py:1074\u001b[0m, in \u001b[0;36m_LocationIndexer.__getitem__\u001b[1;34m(self, key)\u001b[0m\n\u001b[0;32m   1071\u001b[0m axis \u001b[39m=\u001b[39m \u001b[39mself\u001b[39m\u001b[39m.\u001b[39maxis \u001b[39mor\u001b[39;00m \u001b[39m0\u001b[39m\n\u001b[0;32m   1073\u001b[0m maybe_callable \u001b[39m=\u001b[39m com\u001b[39m.\u001b[39mapply_if_callable(key, \u001b[39mself\u001b[39m\u001b[39m.\u001b[39mobj)\n\u001b[1;32m-> 1074\u001b[0m \u001b[39mreturn\u001b[39;00m \u001b[39mself\u001b[39;49m\u001b[39m.\u001b[39;49m_getitem_axis(maybe_callable, axis\u001b[39m=\u001b[39;49maxis)\n",
      "File \u001b[1;32mc:\\Users\\nabie\\AppData\\Local\\Programs\\Python\\Python310\\lib\\site-packages\\pandas\\core\\indexing.py:1626\u001b[0m, in \u001b[0;36m_iLocIndexer._getitem_axis\u001b[1;34m(self, key, axis)\u001b[0m\n\u001b[0;32m   1623\u001b[0m     \u001b[39mraise\u001b[39;00m \u001b[39mTypeError\u001b[39;00m(\u001b[39m\"\u001b[39m\u001b[39mCannot index by location index with a non-integer key\u001b[39m\u001b[39m\"\u001b[39m)\n\u001b[0;32m   1625\u001b[0m \u001b[39m# validate the location\u001b[39;00m\n\u001b[1;32m-> 1626\u001b[0m \u001b[39mself\u001b[39;49m\u001b[39m.\u001b[39;49m_validate_integer(key, axis)\n\u001b[0;32m   1628\u001b[0m \u001b[39mreturn\u001b[39;00m \u001b[39mself\u001b[39m\u001b[39m.\u001b[39mobj\u001b[39m.\u001b[39m_ixs(key, axis\u001b[39m=\u001b[39maxis)\n",
      "File \u001b[1;32mc:\\Users\\nabie\\AppData\\Local\\Programs\\Python\\Python310\\lib\\site-packages\\pandas\\core\\indexing.py:1558\u001b[0m, in \u001b[0;36m_iLocIndexer._validate_integer\u001b[1;34m(self, key, axis)\u001b[0m\n\u001b[0;32m   1556\u001b[0m len_axis \u001b[39m=\u001b[39m \u001b[39mlen\u001b[39m(\u001b[39mself\u001b[39m\u001b[39m.\u001b[39mobj\u001b[39m.\u001b[39m_get_axis(axis))\n\u001b[0;32m   1557\u001b[0m \u001b[39mif\u001b[39;00m key \u001b[39m>\u001b[39m\u001b[39m=\u001b[39m len_axis \u001b[39mor\u001b[39;00m key \u001b[39m<\u001b[39m \u001b[39m-\u001b[39mlen_axis:\n\u001b[1;32m-> 1558\u001b[0m     \u001b[39mraise\u001b[39;00m \u001b[39mIndexError\u001b[39;00m(\u001b[39m\"\u001b[39m\u001b[39msingle positional indexer is out-of-bounds\u001b[39m\u001b[39m\"\u001b[39m)\n",
      "\u001b[1;31mIndexError\u001b[0m: single positional indexer is out-of-bounds"
     ]
    }
   ],
   "source": [
    "i = 22\n",
    "data.iloc[22]"
   ]
  }
 ],
 "metadata": {
  "kernelspec": {
   "display_name": "Python 3.10.7 64-bit",
   "language": "python",
   "name": "python3"
  },
  "language_info": {
   "codemirror_mode": {
    "name": "ipython",
    "version": 3
   },
   "file_extension": ".py",
   "mimetype": "text/x-python",
   "name": "python",
   "nbconvert_exporter": "python",
   "pygments_lexer": "ipython3",
   "version": "3.10.7"
  },
  "orig_nbformat": 4,
  "vscode": {
   "interpreter": {
    "hash": "84fd81905fcee671685e5e8e0616902913f22e711e4275ff9feee5dae726ff02"
   }
  }
 },
 "nbformat": 4,
 "nbformat_minor": 2
}
