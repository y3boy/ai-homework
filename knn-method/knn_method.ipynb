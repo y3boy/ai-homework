{
 "cells": [
  {
   "cell_type": "code",
   "execution_count": 26,
   "metadata": {},
   "outputs": [],
   "source": [
    "import pandas as pd\n",
    "\n",
    "# Prepare data frame\n",
    "data = pd.read_csv('./data.csv')\n",
    "data = data.dropna()"
   ]
  },
  {
   "cell_type": "code",
   "execution_count": 27,
   "metadata": {},
   "outputs": [],
   "source": [
    "area = {\n",
    "    'ЦАО': 1,\n",
    "    'САО': 2,\n",
    "    'СВАО': 3,\n",
    "    'ВАО': 4,\n",
    "    'ЮВАО': 5,\n",
    "    'ЮАО': 6,\n",
    "    'ЮЗАО': 7,\n",
    "    'ЗАО': 8,\n",
    "    'СЗАО': 9,\n",
    "    'МО': 10,\n",
    "}\n",
    "\n",
    "zodiak = {\n",
    "    'Овен': 1,\n",
    "    'Телец': 2,\n",
    "    'Близнецы': 3,\n",
    "    'Рак': 4,\n",
    "    'Лев': 5,\n",
    "    'Дева': 6,\n",
    "    'Весы': 7,\n",
    "    'Скорпион': 8,\n",
    "    'Стрелец': 9,\n",
    "    'Козерог': 10,\n",
    "    'Водолей': 11,\n",
    "    'Рыбы': 12\n",
    "}\n",
    "\n",
    "columns_name = [x for x in data.columns]\n",
    "# Получаем списоком \"шапку таблицы\" без колонок ФИО, К/Ч, Любимый \n",
    "columns_name = columns_name[1:3] + columns_name[4:-1]"
   ]
  },
  {
   "cell_type": "code",
   "execution_count": 28,
   "metadata": {},
   "outputs": [],
   "source": [
    "test_data = pd.read_csv('./test.csv')\n",
    "distance_neighborhood = dict()\n",
    "\n",
    "for i in data.index:\n",
    "    distance = abs(area.get(data.loc[i][columns_name[0]])) - area.get((test_data.loc[0][columns_name[0]])) + \\\n",
    "                abs(zodiak.get(data.loc[i][columns_name[1]]) - zodiak.get(test_data.loc[0][columns_name[1]])) + \\\n",
    "                abs(float(data.loc[i][columns_name[2]]) - float(test_data.loc[0][columns_name[2]])) + \\\n",
    "                abs(float(data.loc[i][columns_name[3]]) - float(test_data.loc[0][columns_name[3]])) + \\\n",
    "                abs(float(data.loc[i][columns_name[4]]) - float(test_data.loc[0][columns_name[4]]))\n",
    "    distance_neighborhood[i] = distance"
   ]
  },
  {
   "cell_type": "code",
   "execution_count": 29,
   "metadata": {},
   "outputs": [],
   "source": [
    "k = 3 # Количество соседей\n",
    "sorted_distance_neighborhood = sorted(distance_neighborhood.items(), key=lambda k: k[1])[:k]\n",
    "\n",
    "answer = []\n",
    "for item in sorted_distance_neighborhood:\n",
    "    if k == 0:\n",
    "        break\n",
    "    answer.append(data.loc[item[0]]['К/Ч'])\n",
    "    k-=1"
   ]
  },
  {
   "cell_type": "code",
   "execution_count": 30,
   "metadata": {},
   "outputs": [
    {
     "name": "stdout",
     "output_type": "stream",
     "text": [
      "Ответ: К\n"
     ]
    }
   ],
   "source": [
    "print('Ответ:', max(set(answer)))"
   ]
  }
 ],
 "metadata": {
  "kernelspec": {
   "display_name": "Python 3.10.7 64-bit",
   "language": "python",
   "name": "python3"
  },
  "language_info": {
   "codemirror_mode": {
    "name": "ipython",
    "version": 3
   },
   "file_extension": ".py",
   "mimetype": "text/x-python",
   "name": "python",
   "nbconvert_exporter": "python",
   "pygments_lexer": "ipython3",
   "version": "3.10.7"
  },
  "orig_nbformat": 4,
  "vscode": {
   "interpreter": {
    "hash": "84fd81905fcee671685e5e8e0616902913f22e711e4275ff9feee5dae726ff02"
   }
  }
 },
 "nbformat": 4,
 "nbformat_minor": 2
}
