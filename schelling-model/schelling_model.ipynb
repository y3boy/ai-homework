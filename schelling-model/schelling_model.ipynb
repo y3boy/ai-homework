{
 "cells": [
  {
   "cell_type": "code",
   "execution_count": 236,
   "metadata": {},
   "outputs": [],
   "source": [
    "%matplotlib inline\n",
    "from math import sqrt\n",
    "import numpy as np\n",
    "import matplotlib.pyplot as plt\n",
    "from random import uniform, seed\n"
   ]
  },
  {
   "cell_type": "code",
   "execution_count": 237,
   "metadata": {},
   "outputs": [],
   "source": [
    "N = 10\n",
    "SIZE = N * N\n",
    "# occupied & free places in percentages\n",
    "OCCUPIED = 0.45 \n",
    "FREE = 0.1\n"
   ]
  },
  {
   "cell_type": "code",
   "execution_count": 238,
   "metadata": {},
   "outputs": [],
   "source": [
    "array = np.zeros(SIZE, dtype=np.int8)\n",
    "\"\"\"\n",
    "BLUE is 0\n",
    "RED  is 1\n",
    "FREE is -1\n",
    "\"\"\"\n",
    "# Brilliant way to fill array\n",
    "array[:int(SIZE*OCCUPIED)] = 1\n",
    "array[-int(SIZE*FREE):] = -1\n",
    "np.random.shuffle(array)\n",
    "\n",
    "# Brilliant way to convert linear array to matrix\n",
    "# matrix = array.reshape(N,N)"
   ]
  },
  {
   "cell_type": "code",
   "execution_count": 239,
   "metadata": {},
   "outputs": [
    {
     "name": "stderr",
     "output_type": "stream",
     "text": [
      "C:\\Users\\nabie\\AppData\\Local\\Temp\\ipykernel_3160\\3768844817.py:3: UserWarning: No data for colormapping provided via 'c'. Parameters 'vmin', 'vmax' will be ignored\n",
      "  ax.scatter(x = 1, y = 1, vmax=N, vmin=0, marker='s')\n"
     ]
    },
    {
     "data": {
      "image/png": "[encoded data removed]",
      "text/plain": [
       "<Figure size 200x200 with 1 Axes>"
      ]
     },
     "metadata": {},
     "output_type": "display_data"
    }
   ],
   "source": [
    "fig, ax = plt.subplots()\n",
    "\n",
    "ax.scatter(x = 1, y = 1, vmax=N, vmin=0, marker='s')\n",
    "ax.set_axis_off()\n",
    "plt.grid(False)\n",
    "plt.show()"
   ]
  }
 ],
 "metadata": {
  "kernelspec": {
   "display_name": "Python 3.10.7 64-bit",
   "language": "python",
   "name": "python3"
  },
  "language_info": {
   "codemirror_mode": {
    "name": "ipython",
    "version": 3
   },
   "file_extension": ".py",
   "mimetype": "text/x-python",
   "name": "python",
   "nbconvert_exporter": "python",
   "pygments_lexer": "ipython3",
   "version": "3.10.7"
  },
  "orig_nbformat": 4,
  "vscode": {
   "interpreter": {
    "hash": "84fd81905fcee671685e5e8e0616902913f22e711e4275ff9feee5dae726ff02"
   }
  }
 },
 "nbformat": 4,
 "nbformat_minor": 2
}
