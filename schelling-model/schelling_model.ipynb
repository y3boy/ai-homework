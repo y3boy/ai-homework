{
 "cells": [
  {
   "cell_type": "code",
   "execution_count": 130,
   "metadata": {},
   "outputs": [],
   "source": [
    "%matplotlib inline\n",
    "import numpy as np\n",
    "import matplotlib.pyplot as plt\n",
    "\n",
    "from typing import List\n",
    "from random import randint"
   ]
  },
  {
   "cell_type": "code",
   "execution_count": 131,
   "metadata": {},
   "outputs": [],
   "source": [
    "N = 15                 # size of array\n",
    "SIZE = N * N\n",
    "SWAPS = pow(10, 8)    # amount of swaps cells\n",
    "\n",
    "HAPPY_RATION = 2        # number of neighbors to be happy\n",
    "OCCUPIED_RATION = 0.45  # occupied in percentages (separate for BLUE & RED)\n",
    "VACANT_RATION = 0.1     # vacant places \n",
    "\n",
    "SCATTER_SIZE = N/10 * 2 # size of scatter\n",
    "\n",
    "BLUE, RED, WHITE = 0, 1, -1 # value of colors\n",
    "VACANT = WHITE\n"
   ]
  },
  {
   "cell_type": "code",
   "execution_count": 132,
   "metadata": {},
   "outputs": [],
   "source": [
    "def pltcolor(arr: List) -> List:\n",
    "    \"\"\"Return list of point colors\"\"\"\n",
    "    colors_set = {BLUE: 'blue', RED: 'red', VACANT: 'white'}\n",
    "    colors = list()\n",
    "    for item in arr:\n",
    "        colors.append(colors_set.get(item))\n",
    "    return colors\n",
    "\n",
    "\n",
    "def relocation(arr: List):\n",
    "    \"\"\"Relocation \"\"\"\n",
    "    matrix = np.reshape(arr, (N, N))\n",
    "    vacant = [[id//N, id%N] for id, value in enumerate(arr) if value == VACANT]\n",
    "    print(np.count_nonzero(arr == VACANT))\n",
    "    i = 0\n",
    "    while i < SWAPS:\n",
    "        index = randint(0, N-1)\n",
    "        y = index // 10\n",
    "        x = index % 10\n",
    "        if matrix[y][x] != VACANT:\n",
    "            i+=1\n",
    "            neighbors = list()\n",
    "            if y == 0:\n",
    "                if x == 0:\n",
    "                    neighbors.extend([matrix[y][x+1], matrix[y+1][x], matrix[y+1][x+1]])\n",
    "                elif x == N-1:\n",
    "                    neighbors.extend([matrix[y][x-1], matrix[y+1][x], matrix[y+1][x-1]])\n",
    "                else:\n",
    "                    neighbors.extend([matrix[y+1][x-1], matrix[y+1][x], matrix[y+1][x+1],\n",
    "                                        matrix[y][x-1], matrix[y][x+1]])\n",
    "            elif y == N-1:\n",
    "                if x == 0:\n",
    "                    neighbors.extend([matrix[y][x+1], matrix[y-1][x], matrix[y-1][x+1]])\n",
    "                elif x == N-1:\n",
    "                    neighbors.extend([matrix[y][x-1], matrix[y-1][x], matrix[y-1][x-1]])\n",
    "                else:\n",
    "                    neighbors.extend([matrix[y-1][x-1], matrix[y-1][x], matrix[y-1][x+1],\n",
    "                                        matrix[y][x-1], matrix[y][x+1]])\n",
    "            else:\n",
    "                if x == 0:\n",
    "                    neighbors.extend([matrix[y+1][x], matrix[y+1][x+1], matrix[y][x+1],\n",
    "                                        matrix[y-1][x-1], matrix[y-1][x]])\n",
    "                if x == N-1:\n",
    "                    neighbors.extend([matrix[y+1][x], matrix[y+1][x-1], matrix[y][x-1],\n",
    "                                        matrix[y-1][x-1], matrix[y-1][x]])\n",
    "                else:\n",
    "                    neighbors.extend([matrix[y+1][x+1], matrix[y+1][x], matrix[y+1][x-1],\n",
    "                                        matrix[y-1][x+1], matrix[y-1][x], matrix[y-1][x-1],\n",
    "                                        matrix[y][x+1], matrix[y][x-1]])\n",
    "            \n",
    "            if neighbors.count(matrix[y][x]) < HAPPY_RATION:\n",
    "                index = randint(0, len(vacant)-1)\n",
    "                vacant_y = vacant[index][0]\n",
    "                vacant_x = vacant[index][1]\n",
    "                \n",
    "                arr[vacant_y*10 + vacant_x] = matrix[y][x]\n",
    "                arr[y*10 + x] = VACANT\n",
    "                \n",
    "                matrix[vacant_y][vacant_x] = matrix[y][x]\n",
    "                matrix[y][x] = VACANT\n",
    "\n",
    "                vacant.pop(index)\n",
    "                vacant.append([y, x])\n",
    "    print(np.count_nonzero(arr == VACANT))"
   ]
  },
  {
   "cell_type": "code",
   "execution_count": 133,
   "metadata": {},
   "outputs": [],
   "source": [
    "array = np.zeros(SIZE, dtype=np.int8)\n",
    "# Brilliant way to fill array\n",
    "array[:int(SIZE*OCCUPIED_RATION)] = 1\n",
    "array[-int(SIZE*VACANT_RATION):] = -1\n",
    "np.random.shuffle(array)"
   ]
  },
  {
   "cell_type": "code",
   "execution_count": 134,
   "metadata": {},
   "outputs": [
    {
     "data": {
      "image/png": "[encoded data removed]",
      "text/plain": [
       "<Figure size 300x300 with 1 Axes>"
      ]
     },
     "metadata": {},
     "output_type": "display_data"
    }
   ],
   "source": [
    "ox = [i for i in range(N)] * N\n",
    "oy = [i//N for i in range(N*N)]\n",
    "\n",
    "fig, ax = plt.subplots()\n",
    "ax.scatter(x=ox, y=oy, marker='s', c=pltcolor(arr=array))\n",
    "\n",
    "ax.set_facecolor('black')\n",
    "ax.get_xaxis().set_visible(False)\n",
    "ax.get_yaxis().set_visible(False)\n",
    "\n",
    "fig.set_figwidth(SCATTER_SIZE) \n",
    "fig.set_figheight(SCATTER_SIZE)\n",
    "ax.set_title('Created map')\n",
    "\n",
    "plt.show()"
   ]
  },
  {
   "cell_type": "code",
   "execution_count": 135,
   "metadata": {},
   "outputs": [
    {
     "name": "stdout",
     "output_type": "stream",
     "text": [
      "22\n",
      "27\n"
     ]
    }
   ],
   "source": [
    "relocation(arr=array) # 10^6 : 4.4s 10^7: 40"
   ]
  },
  {
   "cell_type": "code",
   "execution_count": 136,
   "metadata": {},
   "outputs": [
    {
     "data": {
      "image/png": "[encoded data removed]",
      "text/plain": [
       "<Figure size 300x300 with 1 Axes>"
      ]
     },
     "metadata": {},
     "output_type": "display_data"
    }
   ],
   "source": [
    "fig, ax = plt.subplots()\n",
    "ax.scatter(x=ox, y=oy, marker='s', c=pltcolor(arr=array))\n",
    "ax.set_facecolor('black')\n",
    "ax.get_xaxis().set_visible(False)\n",
    "ax.get_yaxis().set_visible(False)\n",
    "\n",
    "fig.set_figwidth(SCATTER_SIZE) \n",
    "fig.set_figheight(SCATTER_SIZE)\n",
    "ax.set_title('After relocation map')\n",
    "\n",
    "plt.show()"
   ]
  }
 ],
 "metadata": {
  "kernelspec": {
   "display_name": "Python 3.10.7 64-bit",
   "language": "python",
   "name": "python3"
  },
  "language_info": {
   "codemirror_mode": {
    "name": "ipython",
    "version": 3
   },
   "file_extension": ".py",
   "mimetype": "text/x-python",
   "name": "python",
   "nbconvert_exporter": "python",
   "pygments_lexer": "ipython3",
   "version": "3.10.7"
  },
  "orig_nbformat": 4,
  "vscode": {
   "interpreter": {
    "hash": "84fd81905fcee671685e5e8e0616902913f22e711e4275ff9feee5dae726ff02"
   }
  }
 },
 "nbformat": 4,
 "nbformat_minor": 2
}
